{
 "cells": [
  {
   "cell_type": "code",
   "execution_count": 1,
   "id": "b823ed71",
   "metadata": {},
   "outputs": [
    {
     "name": "stdout",
     "output_type": "stream",
     "text": [
      "대통령이 차별하는 대한민국\n"
     ]
    }
   ],
   "source": [
    "print(\"대통령이 차별하는 대한민국\")"
   ]
  },
  {
   "cell_type": "markdown",
   "id": "011cbb9b",
   "metadata": {},
   "source": [
    "#### 사용자입력"
   ]
  },
  {
   "cell_type": "markdown",
   "id": "acdd07e8",
   "metadata": {},
   "source": [
    "num = int(input(\"숫자를입력하세요\"))\n",
    "num2 = int(input(\"또 숫자를입력하세요\"))\n",
    "\n",
    "print(num + num2)\n",
    "print(num - num2)\n",
    "print(num * num2)\n",
    "print(num / num2)"
   ]
  },
  {
   "cell_type": "code",
   "execution_count": 1,
   "id": "80ec69a2",
   "metadata": {},
   "outputs": [
    {
     "name": "stdout",
     "output_type": "stream",
     "text": [
      "13\n",
      "7\n",
      "30\n",
      "3.3333333333333335\n"
     ]
    }
   ],
   "source": [
    "num = int(input(\"숫자를입력하세요\"))\n",
    "num2 = int(input(\"또 숫자를입력하세요\"))\n",
    "\n",
    "print(num + num2)\n",
    "print(num - num2)\n",
    "print(num * num2)\n",
    "print(num / num2)"
   ]
  },
  {
   "cell_type": "code",
   "execution_count": null,
   "id": "544248a5",
   "metadata": {},
   "outputs": [
    {
     "data": {
      "application/vnd.jupyter.widget-view+json": {
       "model_id": "008b9c32d08b4bc5a3b2946dbcc55237",
       "version_major": 2,
       "version_minor": 0
      },
      "text/plain": [
       "IntText(value=0, description='num:')"
      ]
     },
     "metadata": {},
     "output_type": "display_data"
    },
    {
     "data": {
      "application/vnd.jupyter.widget-view+json": {
       "model_id": "5bbd3c6d02e742c6b77768334df2ba31",
       "version_major": 2,
       "version_minor": 0
      },
      "text/plain": [
       "IntText(value=0, description='num2:')"
      ]
     },
     "metadata": {},
     "output_type": "display_data"
    }
   ],
   "source": [
    "import ipywidgets as w\n",
    "from IPython.display import display\n",
    "\n",
    "a = w.IntText(description=\"num:\")\n",
    "b = w.IntText(description=\"num2:\")\n",
    "display(a, b)"
   ]
  }
 ],
 "metadata": {
  "kernelspec": {
   "display_name": "Python 3",
   "language": "python",
   "name": "python3"
  },
  "language_info": {
   "codemirror_mode": {
    "name": "ipython",
    "version": 3
   },
   "file_extension": ".py",
   "mimetype": "text/x-python",
   "name": "python",
   "nbconvert_exporter": "python",
   "pygments_lexer": "ipython3",
   "version": "3.11.9"
  }
 },
 "nbformat": 4,
 "nbformat_minor": 5
}
